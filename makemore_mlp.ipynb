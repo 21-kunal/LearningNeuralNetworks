{
 "cells": [
  {
   "cell_type": "code",
   "execution_count": 1,
   "metadata": {},
   "outputs": [],
   "source": [
    "import torch\n",
    "import torch.nn.functional as F\n",
    "import matplotlib.pyplot as plt\n",
    "%matplotlib inline"
   ]
  },
  {
   "cell_type": "code",
   "execution_count": 2,
   "metadata": {},
   "outputs": [
    {
     "data": {
      "text/plain": [
       "['emma', 'olivia', 'ava', 'isabella', 'sophia', 'charlotte', 'mia']"
      ]
     },
     "execution_count": 2,
     "metadata": {},
     "output_type": "execute_result"
    }
   ],
   "source": [
    "words = open(\"names.txt\",\"r\").read().splitlines()\n",
    "words[:7]"
   ]
  },
  {
   "cell_type": "code",
   "execution_count": 3,
   "metadata": {},
   "outputs": [
    {
     "data": {
      "text/plain": [
       "32033"
      ]
     },
     "execution_count": 3,
     "metadata": {},
     "output_type": "execute_result"
    }
   ],
   "source": [
    "len(words)"
   ]
  },
  {
   "cell_type": "code",
   "execution_count": 4,
   "metadata": {},
   "outputs": [],
   "source": [
    "chars = sorted(list(set(''.join(words))))\n",
    "stoi = {s:i+1 for i,s in enumerate(chars)}\n",
    "stoi['.'] = 0\n",
    "itos = {i:s for s,i in stoi.items()}"
   ]
  },
  {
   "cell_type": "code",
   "execution_count": 5,
   "metadata": {},
   "outputs": [
    {
     "name": "stdout",
     "output_type": "stream",
     "text": [
      "emma\n",
      "... ------> e\n",
      "..e ------> m\n",
      ".em ------> m\n",
      "emm ------> a\n",
      "mma ------> .\n",
      "olivia\n",
      "... ------> o\n",
      "..o ------> l\n",
      ".ol ------> i\n",
      "oli ------> v\n",
      "liv ------> i\n",
      "ivi ------> a\n",
      "via ------> .\n",
      "ava\n",
      "... ------> a\n",
      "..a ------> v\n",
      ".av ------> a\n",
      "ava ------> .\n",
      "isabella\n",
      "... ------> i\n",
      "..i ------> s\n",
      ".is ------> a\n",
      "isa ------> b\n",
      "sab ------> e\n",
      "abe ------> l\n",
      "bel ------> l\n",
      "ell ------> a\n",
      "lla ------> .\n",
      "sophia\n",
      "... ------> s\n",
      "..s ------> o\n",
      ".so ------> p\n",
      "sop ------> h\n",
      "oph ------> i\n",
      "phi ------> a\n",
      "hia ------> .\n"
     ]
    }
   ],
   "source": [
    "# building dataset\n",
    "\n",
    "X,Y=[],[]\n",
    "block_size = 3\n",
    "for w in words[:5]:\n",
    "    print(w)\n",
    "    context = [0]*block_size\n",
    "    for ch in w + '.':\n",
    "        ix = stoi[ch]\n",
    "        X.append(context)\n",
    "        Y.append(ix)\n",
    "        print(''.join(itos[i] for i in context),'------>',itos[ix])\n",
    "        context = context[1:] + [ix]\n",
    "\n",
    "X = torch.tensor(X)\n",
    "Y = torch.tensor(Y)    "
   ]
  },
  {
   "cell_type": "code",
   "execution_count": 6,
   "metadata": {},
   "outputs": [
    {
     "name": "stdout",
     "output_type": "stream",
     "text": [
      "X.shape=torch.Size([32, 3]), X.dtype=torch.int64 | Y.shape=torch.Size([32]), Y.dtype=torch.int64\n"
     ]
    }
   ],
   "source": [
    "print(f\"{X.shape=}, {X.dtype=} | {Y.shape=}, {Y.dtype=}\")"
   ]
  },
  {
   "cell_type": "code",
   "execution_count": 8,
   "metadata": {},
   "outputs": [],
   "source": [
    "C = torch.randn((27,2))"
   ]
  },
  {
   "cell_type": "code",
   "execution_count": 13,
   "metadata": {},
   "outputs": [
    {
     "data": {
      "text/plain": [
       "torch.Size([32, 3, 2])"
      ]
     },
     "execution_count": 13,
     "metadata": {},
     "output_type": "execute_result"
    }
   ],
   "source": [
    "emb = C[X]\n",
    "emb.shape"
   ]
  },
  {
   "cell_type": "code",
   "execution_count": 14,
   "metadata": {},
   "outputs": [
    {
     "name": "stdout",
     "output_type": "stream",
     "text": [
      "emb[13] = tensor([[0.2956, 0.5318],\n",
      "        [0.2956, 0.5318],\n",
      "        [1.4528, 1.2464]]),\n",
      "emb[10] = tensor([[ 0.8846, -1.3183],\n",
      "        [-0.0406,  0.3798],\n",
      "        [ 0.8846, -1.3183]])\n"
     ]
    }
   ],
   "source": [
    "print(f'{emb[13] = },\\n{emb[10] = }')"
   ]
  },
  {
   "cell_type": "code",
   "execution_count": 16,
   "metadata": {},
   "outputs": [],
   "source": [
    "W1 = torch.randn((6,100))\n",
    "b1 = torch.randn(100)"
   ]
  },
  {
   "cell_type": "code",
   "execution_count": 17,
   "metadata": {},
   "outputs": [
    {
     "ename": "RuntimeError",
     "evalue": "mat1 and mat2 shapes cannot be multiplied (96x2 and 6x100)",
     "output_type": "error",
     "traceback": [
      "\u001b[0;31m---------------------------------------------------------------------------\u001b[0m",
      "\u001b[0;31mRuntimeError\u001b[0m                              Traceback (most recent call last)",
      "Cell \u001b[0;32mIn[17], line 1\u001b[0m\n\u001b[0;32m----> 1\u001b[0m \u001b[43memb\u001b[49m\u001b[43m \u001b[49m\u001b[38;5;241;43m@\u001b[39;49m\u001b[43m \u001b[49m\u001b[43mW1\u001b[49m \u001b[38;5;241m+\u001b[39m b1\n",
      "\u001b[0;31mRuntimeError\u001b[0m: mat1 and mat2 shapes cannot be multiplied (96x2 and 6x100)"
     ]
    }
   ],
   "source": [
    "emb @ W1 + b1"
   ]
  },
  {
   "cell_type": "code",
   "execution_count": 29,
   "metadata": {},
   "outputs": [
    {
     "data": {
      "text/plain": [
       "tensor([[ 0.2956,  0.5318,  0.2956,  0.5318,  0.2956,  0.5318],\n",
       "        [ 0.2956,  0.5318,  0.2956,  0.5318,  0.0283, -1.1247],\n",
       "        [ 0.2956,  0.5318,  0.0283, -1.1247, -1.2799,  1.0574],\n",
       "        [ 0.0283, -1.1247, -1.2799,  1.0574, -1.2799,  1.0574],\n",
       "        [-1.2799,  1.0574, -1.2799,  1.0574,  1.4528,  1.2464],\n",
       "        [ 0.2956,  0.5318,  0.2956,  0.5318,  0.2956,  0.5318],\n",
       "        [ 0.2956,  0.5318,  0.2956,  0.5318,  0.8190,  1.4087],\n",
       "        [ 0.2956,  0.5318,  0.8190,  1.4087, -0.4705, -1.8129],\n",
       "        [ 0.8190,  1.4087, -0.4705, -1.8129,  0.8846, -1.3183],\n",
       "        [-0.4705, -1.8129,  0.8846, -1.3183, -0.0406,  0.3798],\n",
       "        [ 0.8846, -1.3183, -0.0406,  0.3798,  0.8846, -1.3183],\n",
       "        [-0.0406,  0.3798,  0.8846, -1.3183,  1.4528,  1.2464],\n",
       "        [ 0.2956,  0.5318,  0.2956,  0.5318,  0.2956,  0.5318],\n",
       "        [ 0.2956,  0.5318,  0.2956,  0.5318,  1.4528,  1.2464],\n",
       "        [ 0.2956,  0.5318,  1.4528,  1.2464, -0.0406,  0.3798],\n",
       "        [ 1.4528,  1.2464, -0.0406,  0.3798,  1.4528,  1.2464],\n",
       "        [ 0.2956,  0.5318,  0.2956,  0.5318,  0.2956,  0.5318],\n",
       "        [ 0.2956,  0.5318,  0.2956,  0.5318,  0.8846, -1.3183],\n",
       "        [ 0.2956,  0.5318,  0.8846, -1.3183, -0.4562, -0.1873],\n",
       "        [ 0.8846, -1.3183, -0.4562, -0.1873,  1.4528,  1.2464],\n",
       "        [-0.4562, -0.1873,  1.4528,  1.2464,  0.6893, -0.2387],\n",
       "        [ 1.4528,  1.2464,  0.6893, -0.2387,  0.0283, -1.1247],\n",
       "        [ 0.6893, -0.2387,  0.0283, -1.1247, -0.4705, -1.8129],\n",
       "        [ 0.0283, -1.1247, -0.4705, -1.8129, -0.4705, -1.8129],\n",
       "        [-0.4705, -1.8129, -0.4705, -1.8129,  1.4528,  1.2464],\n",
       "        [ 0.2956,  0.5318,  0.2956,  0.5318,  0.2956,  0.5318],\n",
       "        [ 0.2956,  0.5318,  0.2956,  0.5318, -0.4562, -0.1873],\n",
       "        [ 0.2956,  0.5318, -0.4562, -0.1873,  0.8190,  1.4087],\n",
       "        [-0.4562, -0.1873,  0.8190,  1.4087,  0.6352,  1.1609],\n",
       "        [ 0.8190,  1.4087,  0.6352,  1.1609, -0.1500, -0.4924],\n",
       "        [ 0.6352,  1.1609, -0.1500, -0.4924,  0.8846, -1.3183],\n",
       "        [-0.1500, -0.4924,  0.8846, -1.3183,  1.4528,  1.2464]])"
      ]
     },
     "execution_count": 29,
     "metadata": {},
     "output_type": "execute_result"
    }
   ],
   "source": [
    "torch.cat([emb[:,0,:],emb[:,1,:],emb[:,2,:]],1) # very inefficient"
   ]
  },
  {
   "cell_type": "code",
   "execution_count": 28,
   "metadata": {},
   "outputs": [
    {
     "data": {
      "text/plain": [
       "tensor([[ 0.2956,  0.5318,  0.2956,  0.5318,  0.2956,  0.5318],\n",
       "        [ 0.2956,  0.5318,  0.2956,  0.5318,  0.0283, -1.1247],\n",
       "        [ 0.2956,  0.5318,  0.0283, -1.1247, -1.2799,  1.0574],\n",
       "        [ 0.0283, -1.1247, -1.2799,  1.0574, -1.2799,  1.0574],\n",
       "        [-1.2799,  1.0574, -1.2799,  1.0574,  1.4528,  1.2464],\n",
       "        [ 0.2956,  0.5318,  0.2956,  0.5318,  0.2956,  0.5318],\n",
       "        [ 0.2956,  0.5318,  0.2956,  0.5318,  0.8190,  1.4087],\n",
       "        [ 0.2956,  0.5318,  0.8190,  1.4087, -0.4705, -1.8129],\n",
       "        [ 0.8190,  1.4087, -0.4705, -1.8129,  0.8846, -1.3183],\n",
       "        [-0.4705, -1.8129,  0.8846, -1.3183, -0.0406,  0.3798],\n",
       "        [ 0.8846, -1.3183, -0.0406,  0.3798,  0.8846, -1.3183],\n",
       "        [-0.0406,  0.3798,  0.8846, -1.3183,  1.4528,  1.2464],\n",
       "        [ 0.2956,  0.5318,  0.2956,  0.5318,  0.2956,  0.5318],\n",
       "        [ 0.2956,  0.5318,  0.2956,  0.5318,  1.4528,  1.2464],\n",
       "        [ 0.2956,  0.5318,  1.4528,  1.2464, -0.0406,  0.3798],\n",
       "        [ 1.4528,  1.2464, -0.0406,  0.3798,  1.4528,  1.2464],\n",
       "        [ 0.2956,  0.5318,  0.2956,  0.5318,  0.2956,  0.5318],\n",
       "        [ 0.2956,  0.5318,  0.2956,  0.5318,  0.8846, -1.3183],\n",
       "        [ 0.2956,  0.5318,  0.8846, -1.3183, -0.4562, -0.1873],\n",
       "        [ 0.8846, -1.3183, -0.4562, -0.1873,  1.4528,  1.2464],\n",
       "        [-0.4562, -0.1873,  1.4528,  1.2464,  0.6893, -0.2387],\n",
       "        [ 1.4528,  1.2464,  0.6893, -0.2387,  0.0283, -1.1247],\n",
       "        [ 0.6893, -0.2387,  0.0283, -1.1247, -0.4705, -1.8129],\n",
       "        [ 0.0283, -1.1247, -0.4705, -1.8129, -0.4705, -1.8129],\n",
       "        [-0.4705, -1.8129, -0.4705, -1.8129,  1.4528,  1.2464],\n",
       "        [ 0.2956,  0.5318,  0.2956,  0.5318,  0.2956,  0.5318],\n",
       "        [ 0.2956,  0.5318,  0.2956,  0.5318, -0.4562, -0.1873],\n",
       "        [ 0.2956,  0.5318, -0.4562, -0.1873,  0.8190,  1.4087],\n",
       "        [-0.4562, -0.1873,  0.8190,  1.4087,  0.6352,  1.1609],\n",
       "        [ 0.8190,  1.4087,  0.6352,  1.1609, -0.1500, -0.4924],\n",
       "        [ 0.6352,  1.1609, -0.1500, -0.4924,  0.8846, -1.3183],\n",
       "        [-0.1500, -0.4924,  0.8846, -1.3183,  1.4528,  1.2464]])"
      ]
     },
     "execution_count": 28,
     "metadata": {},
     "output_type": "execute_result"
    }
   ],
   "source": [
    "torch.cat(torch.unbind(emb,1),1)"
   ]
  },
  {
   "cell_type": "code",
   "execution_count": 30,
   "metadata": {},
   "outputs": [
    {
     "data": {
      "text/plain": [
       "tensor([[ 0.2956,  0.2956,  0.2956,  0.5318,  0.5318,  0.5318],\n",
       "        [ 0.2956,  0.2956,  0.0283,  0.5318,  0.5318, -1.1247],\n",
       "        [ 0.2956,  0.0283, -1.2799,  0.5318, -1.1247,  1.0574],\n",
       "        [ 0.0283, -1.2799, -1.2799, -1.1247,  1.0574,  1.0574],\n",
       "        [-1.2799, -1.2799,  1.4528,  1.0574,  1.0574,  1.2464],\n",
       "        [ 0.2956,  0.2956,  0.2956,  0.5318,  0.5318,  0.5318],\n",
       "        [ 0.2956,  0.2956,  0.8190,  0.5318,  0.5318,  1.4087],\n",
       "        [ 0.2956,  0.8190, -0.4705,  0.5318,  1.4087, -1.8129],\n",
       "        [ 0.8190, -0.4705,  0.8846,  1.4087, -1.8129, -1.3183],\n",
       "        [-0.4705,  0.8846, -0.0406, -1.8129, -1.3183,  0.3798],\n",
       "        [ 0.8846, -0.0406,  0.8846, -1.3183,  0.3798, -1.3183],\n",
       "        [-0.0406,  0.8846,  1.4528,  0.3798, -1.3183,  1.2464],\n",
       "        [ 0.2956,  0.2956,  0.2956,  0.5318,  0.5318,  0.5318],\n",
       "        [ 0.2956,  0.2956,  1.4528,  0.5318,  0.5318,  1.2464],\n",
       "        [ 0.2956,  1.4528, -0.0406,  0.5318,  1.2464,  0.3798],\n",
       "        [ 1.4528, -0.0406,  1.4528,  1.2464,  0.3798,  1.2464],\n",
       "        [ 0.2956,  0.2956,  0.2956,  0.5318,  0.5318,  0.5318],\n",
       "        [ 0.2956,  0.2956,  0.8846,  0.5318,  0.5318, -1.3183],\n",
       "        [ 0.2956,  0.8846, -0.4562,  0.5318, -1.3183, -0.1873],\n",
       "        [ 0.8846, -0.4562,  1.4528, -1.3183, -0.1873,  1.2464],\n",
       "        [-0.4562,  1.4528,  0.6893, -0.1873,  1.2464, -0.2387],\n",
       "        [ 1.4528,  0.6893,  0.0283,  1.2464, -0.2387, -1.1247],\n",
       "        [ 0.6893,  0.0283, -0.4705, -0.2387, -1.1247, -1.8129],\n",
       "        [ 0.0283, -0.4705, -0.4705, -1.1247, -1.8129, -1.8129],\n",
       "        [-0.4705, -0.4705,  1.4528, -1.8129, -1.8129,  1.2464],\n",
       "        [ 0.2956,  0.2956,  0.2956,  0.5318,  0.5318,  0.5318],\n",
       "        [ 0.2956,  0.2956, -0.4562,  0.5318,  0.5318, -0.1873],\n",
       "        [ 0.2956, -0.4562,  0.8190,  0.5318, -0.1873,  1.4087],\n",
       "        [-0.4562,  0.8190,  0.6352, -0.1873,  1.4087,  1.1609],\n",
       "        [ 0.8190,  0.6352, -0.1500,  1.4087,  1.1609, -0.4924],\n",
       "        [ 0.6352, -0.1500,  0.8846,  1.1609, -0.4924, -1.3183],\n",
       "        [-0.1500,  0.8846,  1.4528, -0.4924, -1.3183,  1.2464]])"
      ]
     },
     "execution_count": 30,
     "metadata": {},
     "output_type": "execute_result"
    }
   ],
   "source": [
    "torch.cat(torch.unbind(emb,2),1)"
   ]
  },
  {
   "cell_type": "code",
   "execution_count": 31,
   "metadata": {},
   "outputs": [
    {
     "data": {
      "text/plain": [
       "tensor([[ 0.2956,  0.5318,  0.2956,  0.5318,  0.2956,  0.5318],\n",
       "        [ 0.2956,  0.5318,  0.2956,  0.5318,  0.0283, -1.1247],\n",
       "        [ 0.2956,  0.5318,  0.0283, -1.1247, -1.2799,  1.0574],\n",
       "        [ 0.0283, -1.1247, -1.2799,  1.0574, -1.2799,  1.0574],\n",
       "        [-1.2799,  1.0574, -1.2799,  1.0574,  1.4528,  1.2464],\n",
       "        [ 0.2956,  0.5318,  0.2956,  0.5318,  0.2956,  0.5318],\n",
       "        [ 0.2956,  0.5318,  0.2956,  0.5318,  0.8190,  1.4087],\n",
       "        [ 0.2956,  0.5318,  0.8190,  1.4087, -0.4705, -1.8129],\n",
       "        [ 0.8190,  1.4087, -0.4705, -1.8129,  0.8846, -1.3183],\n",
       "        [-0.4705, -1.8129,  0.8846, -1.3183, -0.0406,  0.3798],\n",
       "        [ 0.8846, -1.3183, -0.0406,  0.3798,  0.8846, -1.3183],\n",
       "        [-0.0406,  0.3798,  0.8846, -1.3183,  1.4528,  1.2464],\n",
       "        [ 0.2956,  0.5318,  0.2956,  0.5318,  0.2956,  0.5318],\n",
       "        [ 0.2956,  0.5318,  0.2956,  0.5318,  1.4528,  1.2464],\n",
       "        [ 0.2956,  0.5318,  1.4528,  1.2464, -0.0406,  0.3798],\n",
       "        [ 1.4528,  1.2464, -0.0406,  0.3798,  1.4528,  1.2464],\n",
       "        [ 0.2956,  0.5318,  0.2956,  0.5318,  0.2956,  0.5318],\n",
       "        [ 0.2956,  0.5318,  0.2956,  0.5318,  0.8846, -1.3183],\n",
       "        [ 0.2956,  0.5318,  0.8846, -1.3183, -0.4562, -0.1873],\n",
       "        [ 0.8846, -1.3183, -0.4562, -0.1873,  1.4528,  1.2464],\n",
       "        [-0.4562, -0.1873,  1.4528,  1.2464,  0.6893, -0.2387],\n",
       "        [ 1.4528,  1.2464,  0.6893, -0.2387,  0.0283, -1.1247],\n",
       "        [ 0.6893, -0.2387,  0.0283, -1.1247, -0.4705, -1.8129],\n",
       "        [ 0.0283, -1.1247, -0.4705, -1.8129, -0.4705, -1.8129],\n",
       "        [-0.4705, -1.8129, -0.4705, -1.8129,  1.4528,  1.2464],\n",
       "        [ 0.2956,  0.5318,  0.2956,  0.5318,  0.2956,  0.5318],\n",
       "        [ 0.2956,  0.5318,  0.2956,  0.5318, -0.4562, -0.1873],\n",
       "        [ 0.2956,  0.5318, -0.4562, -0.1873,  0.8190,  1.4087],\n",
       "        [-0.4562, -0.1873,  0.8190,  1.4087,  0.6352,  1.1609],\n",
       "        [ 0.8190,  1.4087,  0.6352,  1.1609, -0.1500, -0.4924],\n",
       "        [ 0.6352,  1.1609, -0.1500, -0.4924,  0.8846, -1.3183],\n",
       "        [-0.1500, -0.4924,  0.8846, -1.3183,  1.4528,  1.2464]])"
      ]
     },
     "execution_count": 31,
     "metadata": {},
     "output_type": "execute_result"
    }
   ],
   "source": [
    "emb.view(32,6) # very efficient"
   ]
  },
  {
   "cell_type": "code",
   "execution_count": 34,
   "metadata": {},
   "outputs": [],
   "source": [
    "h = torch.tanh(emb.view(-1,6) @ W1 + b1)"
   ]
  },
  {
   "cell_type": "code",
   "execution_count": 35,
   "metadata": {},
   "outputs": [
    {
     "data": {
      "text/plain": [
       "torch.Size([32, 100])"
      ]
     },
     "execution_count": 35,
     "metadata": {},
     "output_type": "execute_result"
    }
   ],
   "source": [
    "h.shape"
   ]
  },
  {
   "cell_type": "code",
   "execution_count": 36,
   "metadata": {},
   "outputs": [],
   "source": [
    "# check for broad casting\n",
    "# 32 x 100 (emb @ W1)\n",
    "#      100 (b1)"
   ]
  },
  {
   "cell_type": "code",
   "execution_count": 37,
   "metadata": {},
   "outputs": [],
   "source": [
    "W2 = torch.randn((100,27))\n",
    "b2 = torch.randn(27)"
   ]
  },
  {
   "cell_type": "code",
   "execution_count": 38,
   "metadata": {},
   "outputs": [],
   "source": [
    "logits = h @ W2 + b2"
   ]
  },
  {
   "cell_type": "code",
   "execution_count": 39,
   "metadata": {},
   "outputs": [],
   "source": [
    "count = logits.exp()"
   ]
  },
  {
   "cell_type": "code",
   "execution_count": 40,
   "metadata": {},
   "outputs": [
    {
     "data": {
      "text/plain": [
       "torch.Size([32, 27])"
      ]
     },
     "execution_count": 40,
     "metadata": {},
     "output_type": "execute_result"
    }
   ],
   "source": [
    "count.shape"
   ]
  },
  {
   "cell_type": "code",
   "execution_count": 41,
   "metadata": {},
   "outputs": [],
   "source": [
    "prob = count / count.sum(1,keepdim=True)"
   ]
  },
  {
   "cell_type": "code",
   "execution_count": 42,
   "metadata": {},
   "outputs": [
    {
     "data": {
      "text/plain": [
       "torch.Size([32, 27])"
      ]
     },
     "execution_count": 42,
     "metadata": {},
     "output_type": "execute_result"
    }
   ],
   "source": [
    "prob.shape"
   ]
  },
  {
   "cell_type": "code",
   "execution_count": 44,
   "metadata": {},
   "outputs": [
    {
     "data": {
      "text/plain": [
       "tensor(1.)"
      ]
     },
     "execution_count": 44,
     "metadata": {},
     "output_type": "execute_result"
    }
   ],
   "source": [
    "prob[0].sum()"
   ]
  },
  {
   "cell_type": "code",
   "execution_count": 49,
   "metadata": {},
   "outputs": [
    {
     "data": {
      "text/plain": [
       "tensor(18.4368)"
      ]
     },
     "execution_count": 49,
     "metadata": {},
     "output_type": "execute_result"
    }
   ],
   "source": [
    "loss = -prob[torch.arange(32),Y].log().mean()\n",
    "loss"
   ]
  },
  {
   "cell_type": "code",
   "execution_count": 50,
   "metadata": {},
   "outputs": [],
   "source": [
    "#------------------------ full code ------------------------"
   ]
  },
  {
   "cell_type": "code",
   "execution_count": 277,
   "metadata": {},
   "outputs": [],
   "source": [
    "# dataset\n",
    "\n",
    "X,Y=[],[]\n",
    "block_size = 3\n",
    "for w in words:\n",
    "    # print(w)\n",
    "    context = [0]*block_size\n",
    "    for ch in w + '.':\n",
    "        ix = stoi[ch]\n",
    "        X.append(context)\n",
    "        Y.append(ix)\n",
    "        # print(''.join(itos[i] for i in context),'------>',itos[ix])\n",
    "        context = context[1:] + [ix]\n",
    "\n",
    "X = torch.tensor(X)\n",
    "Y = torch.tensor(Y)   "
   ]
  },
  {
   "cell_type": "code",
   "execution_count": 278,
   "metadata": {},
   "outputs": [
    {
     "name": "stdout",
     "output_type": "stream",
     "text": [
      "torch.Size([182580, 3]) torch.Size([182580])\n",
      "torch.Size([22767, 3]) torch.Size([22767])\n",
      "torch.Size([22799, 3]) torch.Size([22799])\n"
     ]
    }
   ],
   "source": [
    "# build the dataset\n",
    "block_size = 3 # context length: how many characters do we take to predict the next one?\n",
    "\n",
    "def build_dataset(words):  \n",
    "  X, Y = [], []\n",
    "  for w in words:\n",
    "\n",
    "    #print(w)\n",
    "    context = [0] * block_size\n",
    "    for ch in w + '.':\n",
    "      ix = stoi[ch]\n",
    "      X.append(context)\n",
    "      Y.append(ix)\n",
    "      #print(''.join(itos[i] for i in context), '--->', itos[ix])\n",
    "      context = context[1:] + [ix] # crop and append\n",
    "\n",
    "  X = torch.tensor(X)\n",
    "  Y = torch.tensor(Y)\n",
    "  print(X.shape, Y.shape)\n",
    "  return X, Y\n",
    "\n",
    "import random\n",
    "random.seed(42)\n",
    "random.shuffle(words)\n",
    "n1 = int(0.8*len(words))\n",
    "n2 = int(0.9*len(words))\n",
    "\n",
    "Xtr, Ytr = build_dataset(words[:n1])\n",
    "Xdev, Ydev = build_dataset(words[n1:n2])\n",
    "Xte, Yte = build_dataset(words[n2:])"
   ]
  },
  {
   "cell_type": "code",
   "execution_count": 344,
   "metadata": {},
   "outputs": [],
   "source": [
    "g = torch.Generator().manual_seed(2147483647) # for reproducibility\n",
    "C = torch.randn((27, 10), generator=g)\n",
    "W1 = torch.randn((30, 200), generator=g)\n",
    "b1 = torch.randn(200, generator=g)\n",
    "W2 = torch.randn((200, 27), generator=g)\n",
    "b2 = torch.randn(27, generator=g)\n",
    "parameters = [C, W1, b1, W2, b2]"
   ]
  },
  {
   "cell_type": "code",
   "execution_count": 345,
   "metadata": {},
   "outputs": [
    {
     "data": {
      "text/plain": [
       "11897"
      ]
     },
     "execution_count": 345,
     "metadata": {},
     "output_type": "execute_result"
    }
   ],
   "source": [
    "sum( p.nelement()  for p in parameters)"
   ]
  },
  {
   "cell_type": "code",
   "execution_count": 346,
   "metadata": {},
   "outputs": [],
   "source": [
    "for p in parameters:\n",
    "    p.requires_grad = True"
   ]
  },
  {
   "cell_type": "code",
   "execution_count": 347,
   "metadata": {},
   "outputs": [],
   "source": [
    "# learning rates\n",
    "lre = torch.linspace(-3,0,1000)\n",
    "lrs = 10**lre"
   ]
  },
  {
   "cell_type": "code",
   "execution_count": 348,
   "metadata": {},
   "outputs": [],
   "source": [
    "lri = []\n",
    "lossi = []\n",
    "stepi = []"
   ]
  },
  {
   "cell_type": "code",
   "execution_count": 349,
   "metadata": {},
   "outputs": [
    {
     "name": "stdout",
     "output_type": "stream",
     "text": [
      "2.256524085998535\n"
     ]
    }
   ],
   "source": [
    "for i in range(100000):\n",
    "  \n",
    "  # minibatch construct\n",
    "  ix = torch.randint(0, Xtr.shape[0], (1000,))\n",
    "  \n",
    "  # forward pass\n",
    "  emb = C[Xtr[ix]] # (32, 3, 10)\n",
    "  h = torch.tanh(emb.view(-1, 30) @ W1 + b1) # (32, 200)\n",
    "  logits = h @ W2 + b2 # (32, 27)\n",
    "  loss = F.cross_entropy(logits, Ytr[ix])\n",
    "  #print(loss.item())\n",
    "  \n",
    "  # backward pass\n",
    "  for p in parameters:\n",
    "    p.grad = None\n",
    "  loss.backward()\n",
    "  \n",
    "  # update\n",
    "  # lr = lrs[i]\n",
    "  lr = 0.1 if i < 50000 else 0.01\n",
    "  # lr = 0.01\n",
    "  for p in parameters:\n",
    "    p.data += -lr * p.grad\n",
    "\n",
    "  # track stats\n",
    "  # lri.append(lre[i])\n",
    "  stepi.append(i)\n",
    "  lossi.append(loss.log10().item())\n",
    "\n",
    "print(loss.item())"
   ]
  },
  {
   "cell_type": "code",
   "execution_count": 350,
   "metadata": {},
   "outputs": [
    {
     "data": {
      "text/plain": [
       "[<matplotlib.lines.Line2D at 0x766e85c1a650>]"
      ]
     },
     "execution_count": 350,
     "metadata": {},
     "output_type": "execute_result"
    },
    {
     "data": {
      "image/png": "[encoded data removed]",
      "text/plain": [
       "<Figure size 640x480 with 1 Axes>"
      ]
     },
     "metadata": {},
     "output_type": "display_data"
    }
   ],
   "source": [
    "plt.plot(stepi,lossi)"
   ]
  },
  {
   "cell_type": "code",
   "execution_count": 351,
   "metadata": {},
   "outputs": [
    {
     "data": {
      "text/plain": [
       "tensor(2.1720, grad_fn=<NllLossBackward0>)"
      ]
     },
     "execution_count": 351,
     "metadata": {},
     "output_type": "execute_result"
    }
   ],
   "source": [
    "emb = C[Xtr] # (32, 3, 2)\n",
    "h = torch.tanh(emb.view(-1, 30) @ W1 + b1) # (32, 100)\n",
    "logits = h @ W2 + b2 # (32, 27)\n",
    "loss = F.cross_entropy(logits, Ytr)\n",
    "loss"
   ]
  },
  {
   "cell_type": "code",
   "execution_count": 352,
   "metadata": {},
   "outputs": [
    {
     "data": {
      "text/plain": [
       "tensor(2.1946, grad_fn=<NllLossBackward0>)"
      ]
     },
     "execution_count": 352,
     "metadata": {},
     "output_type": "execute_result"
    }
   ],
   "source": [
    "emb = C[Xdev] # (32, 3, 2)\n",
    "h = torch.tanh(emb.view(-1, 30) @ W1 + b1) # (32, 100)\n",
    "logits = h @ W2 + b2 # (32, 27)\n",
    "loss = F.cross_entropy(logits, Ydev)\n",
    "loss"
   ]
  },
  {
   "cell_type": "code",
   "execution_count": 298,
   "metadata": {},
   "outputs": [
    {
     "data": {
      "image/png": "[encoded data removed]",
      "text/plain": [
       "<Figure size 800x800 with 1 Axes>"
      ]
     },
     "metadata": {},
     "output_type": "display_data"
    }
   ],
   "source": [
    "# visualize dimensions 0 and 1 of the embedding matrix C for all characters\n",
    "plt.figure(figsize=(8,8))\n",
    "plt.scatter(C[:,0].data, C[:,1].data, s=200)\n",
    "for i in range(C.shape[0]):\n",
    "    plt.text(C[i,0].item(), C[i,1].item(), itos[i], ha=\"center\", va=\"center\", color='white')\n",
    "plt.grid('minor')"
   ]
  },
  {
   "cell_type": "code",
   "execution_count": null,
   "metadata": {},
   "outputs": [],
   "source": []
  }
 ],
 "metadata": {
  "kernelspec": {
   "display_name": "Python 3",
   "language": "python",
   "name": "python3"
  },
  "language_info": {
   "codemirror_mode": {
    "name": "ipython",
    "version": 3
   },
   "file_extension": ".py",
   "mimetype": "text/x-python",
   "name": "python",
   "nbconvert_exporter": "python",
   "pygments_lexer": "ipython3",
   "version": "3.11.0"
  }
 },
 "nbformat": 4,
 "nbformat_minor": 2
}
